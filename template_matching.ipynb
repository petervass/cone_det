{
 "cells": [
  {
   "cell_type": "code",
   "execution_count": 97,
   "metadata": {},
   "outputs": [],
   "source": [
    "#%matplotlib notebook\n",
    "import numpy as np\n",
    "import cv2 \n",
    "import os\n",
    "import sys\n",
    "import json \n",
    "\n",
    "from matplotlib import pyplot as plt\n",
    "from matplotlib import cm\n",
    "from matplotlib import gridspec as gs\n",
    "from mpl_toolkits.mplot3d import Axes3D\n",
    "plt.style.use('default')\n",
    "\n",
    "# interactive stuff\n",
    "from ipywidgets import interact, interactive, fixed, interact_manual\n",
    "import ipywidgets as widgets\n",
    "\n",
    "\n",
    "\n",
    "DEF_POINT_SIZE=plt.rcParams['lines.markersize'] ** 2\n",
    "PLOT_EXPENSIVE=False\n",
    "\n",
    "DATA_PATH = \"segments/vlc_snaps/\"\n",
    "JSON_NAME = \"via_region_data.json\"\n",
    "JSON_PATH = os.path.join(DATA_PATH,JSON_NAME)\n",
    "\n",
    "if os.path.isfile(JSON_PATH):\n",
    "    # we load the json\n",
    "    json_file=open(JSON_PATH)\n",
    "    annnotations_raw=json.load(json_file)\n",
    "\n",
    "\n",
    "bootstrap_scenes_hsv = []\n",
    "bootstrap_scenes_rgb = []\n",
    "\n",
    "bootstrap_cones = []\n",
    "bootstrap_cones_hsv = []\n",
    "bootstrap_cones_rgb = []\n",
    "bootstrap_cones_mask = []\n",
    "\n",
    "for k,v in annnotations_raw.items():\n",
    "    img=cv2.imread(os.path.join(DATA_PATH,v[\"filename\"]))\n",
    "    img = cv2.GaussianBlur(img,(5, 5), 0)\n",
    "    \n",
    "    bootstrap_scenes_hsv.append(cv2.cvtColor(img, cv2.COLOR_BGR2HSV))\n",
    "    bootstrap_scenes_rgb.append(cv2.cvtColor(img, cv2.COLOR_BGR2RGB))\n",
    "    \n",
    "    if \"regions\" in v:\n",
    "        for rk,rv in v[\"regions\"].items():\n",
    "            shape = rv[\"shape_attributes\"]\n",
    "            \n",
    "            if shape[\"name\"]==\"rect\":\n",
    "                \n",
    "                bootstrap_cones.append(img[shape[\"y\"]:shape[\"y\"] + shape[\"height\"],\n",
    "                                           shape[\"x\"]:shape[\"x\"] + shape[\"width\"]])\n",
    "                bootstrap_cones_hsv.append(cv2.cvtColor(bootstrap_cones[-1], cv2.COLOR_BGR2HSV))\n",
    "                bootstrap_cones_rgb.append(cv2.cvtColor(bootstrap_cones[-1], cv2.COLOR_BGR2RGB))\n",
    "                \n",
    "\n"
   ]
  },
  {
   "cell_type": "markdown",
   "metadata": {},
   "source": [
    "Basic image manipulation: blurring, Canny edge detection, Otsu thresholding, morfoligical operations\n",
    "---\n",
    "\n",
    "This section investigates the power of basic image operations for determining a mask for the cone.\n"
   ]
  },
  {
   "cell_type": "code",
   "execution_count": 98,
   "metadata": {},
   "outputs": [
    {
     "data": {
      "application/vnd.jupyter.widget-view+json": {
       "model_id": "b5d9ea0f5e8f41dea4ace91253af78e3",
       "version_major": 2,
       "version_minor": 0
      },
      "text/html": [
       "<p>Failed to display Jupyter Widget of type <code>interactive</code>.</p>\n",
       "<p>\n",
       "  If you're reading this message in the Jupyter Notebook or JupyterLab Notebook, it may mean\n",
       "  that the widgets JavaScript is still loading. If this message persists, it\n",
       "  likely means that the widgets JavaScript library is either not installed or\n",
       "  not enabled. See the <a href=\"https://ipywidgets.readthedocs.io/en/stable/user_install.html\">Jupyter\n",
       "  Widgets Documentation</a> for setup instructions.\n",
       "</p>\n",
       "<p>\n",
       "  If you're reading this message in another frontend (for example, a static\n",
       "  rendering on GitHub or <a href=\"https://nbviewer.jupyter.org/\">NBViewer</a>),\n",
       "  it may mean that your frontend doesn't currently support widgets.\n",
       "</p>\n"
      ],
      "text/plain": [
       "interactive(children=(IntSlider(value=40, continuous_update=False, description='img_idx', max=184), Checkbox(value=True, description='plot'), Output()), _dom_classes=('widget-interact',))"
      ]
     },
     "metadata": {},
     "output_type": "display_data"
    },
    {
     "data": {
      "text/plain": [
       "<function __main__.slideshow_callback1>"
      ]
     },
     "execution_count": 98,
     "metadata": {},
     "output_type": "execute_result"
    }
   ],
   "source": [
    "def avg_color(img, mask):\n",
    "    pixels = img[mask>0]\n",
    "    \n",
    "    return np.mean(pixels, axis = 0)\n",
    "\n",
    "\n",
    "\n",
    "\n",
    "def slideshow_callback1(img_idx, plot = True):\n",
    "    \n",
    "    orig_img_rgb = bootstrap_cones_rgb[img_idx]\n",
    "    orig_img_hsv = bootstrap_cones_hsv[img_idx]\n",
    "    \n",
    "    gauss_img = orig_img_hsv\n",
    "    gauss_img_rgb = orig_img_rgb\n",
    "    \n",
    "    canny_img = cv2.Canny(gauss_img[:,:,1], 0, 255)\n",
    "    \n",
    "    th_val, otsu_img = cv2.threshold(gauss_img[:,:,1], 0, 255, cv2.THRESH_OTSU)\n",
    "    \n",
    "    if not plot:\n",
    "        bootstrap_cones_mask.append(otsu_img)\n",
    "    \n",
    "    canny_otsu_img = cv2.Canny(otsu_img, 0, 255)\n",
    "    \n",
    "    # make mean color image\n",
    "    a_col_rgb = avg_color(orig_img_rgb, otsu_img)\n",
    "    a_col_hsv = avg_color(orig_img_hsv, otsu_img) # lazy to convert :)\n",
    "    \n",
    "    avg_img = np.zeros_like(orig_img_rgb)\n",
    "    avg_img[:,:] = a_col_rgb\n",
    "    \n",
    "    # mask img\n",
    "    masked_img = np.zeros_like(orig_img_rgb)\n",
    "    \n",
    "    mask_idx = otsu_img > 0\n",
    "    \n",
    "    masked_img[mask_idx] = orig_img_rgb[mask_idx]\n",
    "    \n",
    "    \n",
    "    kernel= np.ones((3, 3), np.uint8)\n",
    "    morph_img = cv2.morphologyEx(otsu_img, cv2.MORPH_ERODE, kernel, iterations=1)\n",
    "  \n",
    "    if plot:\n",
    "        fig, ax = plt.subplots(2, 4, figsize = (20, 10))\n",
    "\n",
    "        ax[0][0].set_title(\"Original image\")\n",
    "        ax[0][0].imshow(orig_img_rgb)\n",
    "\n",
    "        ax[0][1].set_title(\"S channel\")\n",
    "        ax[0][1].imshow(orig_img_hsv[:, :, 1], cmap = \"gray\", vmin = 0, vmax = 255)\n",
    "\n",
    "        ax[0][2].set_title(\"Otsu threshold of H channel \" + str(th_val))\n",
    "        ax[0][2].imshow(otsu_img, cmap = \"gray\",vmin = 0, vmax = 255)\n",
    "\n",
    "        ax[1][0].set_title(\"Gaussian blur\")\n",
    "        ax[1][0].imshow(gauss_img_rgb)\n",
    "\n",
    "        ax[1][1].set_title(\"Gaussian blur\")\n",
    "        ax[1][1].imshow(gauss_img[:, :, 1], cmap = \"gray\")\n",
    "\n",
    "        ax[1][2].set_title(\"Edges of thresholded image\")\n",
    "        ax[1][2].imshow(canny_otsu_img, cmap = \"gray\")\n",
    "\n",
    "        ax[0][3].set_title(\"Eroded mask:\\n\" + str(np.round(a_col_hsv)))\n",
    "        ax[0][3].imshow(morph_img, cmap = \"gray\")\n",
    "\n",
    "        ax[1][3].set_title(\"Masked image\")\n",
    "        ax[1][3].imshow(masked_img)\n",
    "\n",
    "        plt.show()\n",
    "    \n",
    "for i in range(len(bootstrap_cones_hsv)):\n",
    "    slideshow_callback1(i, plot = False)  \n",
    "\n",
    "w = widgets.IntSlider(value=40, min=0, max=len(bootstrap_cones)-1, continuous_update = False)   \n",
    "interact(slideshow_callback1, img_idx = w)"
   ]
  },
  {
   "cell_type": "markdown",
   "metadata": {},
   "source": [
    "## Histogram backprojection\n"
   ]
  },
  {
   "cell_type": "code",
   "execution_count": 99,
   "metadata": {},
   "outputs": [
    {
     "data": {
      "image/png": "[encoded data removed]",
      "text/plain": [
       "<matplotlib.figure.Figure at 0x7f818032f8d0>"
      ]
     },
     "metadata": {},
     "output_type": "display_data"
    },
    {
     "data": {
      "image/png": "[encoded data removed]",
      "text/plain": [
       "<matplotlib.figure.Figure at 0x7f8180434f98>"
      ]
     },
     "metadata": {},
     "output_type": "display_data"
    }
   ],
   "source": [
    "hist = dict(zip(\"hsv\", [None]*3))\n",
    "hist_neg = dict(zip(\"hsv\", [None]*3))\n",
    "\n",
    "hist2d = None\n",
    "hist2d_neg = None\n",
    "\n",
    "BINS = 50\n",
    "BINS2D = 20\n",
    "\n",
    "for i in range(len(bootstrap_cones_mask)):\n",
    "    \n",
    "    hist2d = cv2.calcHist([bootstrap_cones_hsv[i]], [0,1],  bootstrap_cones_mask[i],\n",
    "                          [BINS2D]*2, \n",
    "                          [0,255]*2, \n",
    "                          hist=hist2d,\n",
    "                          accumulate=True)\n",
    "    \n",
    "    hist2d_neg = cv2.calcHist([bootstrap_cones_hsv[i]], [0,1],  (255-bootstrap_cones_mask[i]),\n",
    "                          [BINS2D]*2, \n",
    "                          [0,255]*2, \n",
    "                          hist=hist2d_neg,\n",
    "                          accumulate=True)\n",
    "    \n",
    "    for j, c in enumerate(\"hsv\"):\n",
    "        hist[c] = cv2.calcHist([bootstrap_cones_hsv[i]], [j], bootstrap_cones_mask[i], [BINS], [0,255], \n",
    "                               hist = hist[c], accumulate = True)\n",
    "        hist_neg[c] = cv2.calcHist([bootstrap_cones_hsv[i]], [j], (255-bootstrap_cones_mask[i]), [BINS], [0,255], \n",
    "                       hist = hist_neg[c], accumulate = True)\n",
    "fig, ax = plt.subplots(2,1, figsize = (5, 7))\n",
    "fig.suptitle(\"Histogram of masks\")\n",
    "\n",
    "for i, c in enumerate(\"hsv\"):\n",
    "    hist[c] /= np.sum(hist[c])\n",
    "    hist[c] = np.squeeze(hist[c])\n",
    "    hist_neg[c] /= np.sum(hist_neg[c])\n",
    "    hist_neg[c] = np.squeeze(hist_neg[c])\n",
    "    \n",
    "    ax[0].plot(hist[c], color = \"ybg\"[i])\n",
    "    ax[1].plot(hist_neg[c], color = \"ybg\"[i])\n",
    "\n",
    "ax[0].set_title(\"Positive\")\n",
    "ax[1].set_title(\"Negative\")\n",
    "plt.xlim([0,BINS])\n",
    "plt.style.use('ggplot')\n",
    "plt.show()\n",
    "\n",
    "# 2D\n",
    "\n",
    "\n",
    "hist2d = hist2d / np.sum(hist2d)\n",
    "hist2d = np.squeeze(hist2d)\n",
    "hist2d_neg = hist2d_neg / np.sum(hist2d_neg)\n",
    "hist2d_neg = np.squeeze(hist2d_neg)\n",
    "\n",
    "fig, ax = plt.subplots(1,2)\n",
    "ax[0].imshow(hist2d)\n",
    "ax[1].imshow(hist2d_neg)\n",
    "\n",
    "plt.show()"
   ]
  },
  {
   "cell_type": "code",
   "execution_count": 109,
   "metadata": {},
   "outputs": [
    {
     "data": {
      "application/vnd.jupyter.widget-view+json": {
       "model_id": "8857fa499afa4abf83ef94b77a7c9ea4",
       "version_major": 2,
       "version_minor": 0
      },
      "text/html": [
       "<p>Failed to display Jupyter Widget of type <code>interactive</code>.</p>\n",
       "<p>\n",
       "  If you're reading this message in the Jupyter Notebook or JupyterLab Notebook, it may mean\n",
       "  that the widgets JavaScript is still loading. If this message persists, it\n",
       "  likely means that the widgets JavaScript library is either not installed or\n",
       "  not enabled. See the <a href=\"https://ipywidgets.readthedocs.io/en/stable/user_install.html\">Jupyter\n",
       "  Widgets Documentation</a> for setup instructions.\n",
       "</p>\n",
       "<p>\n",
       "  If you're reading this message in another frontend (for example, a static\n",
       "  rendering on GitHub or <a href=\"https://nbviewer.jupyter.org/\">NBViewer</a>),\n",
       "  it may mean that your frontend doesn't currently support widgets.\n",
       "</p>\n"
      ],
      "text/plain": [
       "interactive(children=(IntSlider(value=0, description='scene_idx', max=22), Checkbox(value=True, description='plot'), Output()), _dom_classes=('widget-interact',))"
      ]
     },
     "metadata": {},
     "output_type": "display_data"
    },
    {
     "data": {
      "text/plain": [
       "<function __main__.slideshow_callback_histo>"
      ]
     },
     "execution_count": 109,
     "metadata": {},
     "output_type": "execute_result"
    }
   ],
   "source": [
    "bootstrap_scenes_mask = []\n",
    "\n",
    "\n",
    "def backproject_patch()\n",
    "\n",
    "def slideshow_callback_histo(scene_idx, plot = True):\n",
    "    scene_img = bootstrap_scenes_hsv[scene_idx]\n",
    "    #scene_img = cv2.GaussianBlur(scene_img,(5, 5), 0)\n",
    "\n",
    "    prob_map = np.zeros(scene_img.shape[:-1], dtype = \"float32\")\n",
    "\n",
    "    pos = np.ones(scene_img.shape[:-1], dtype = \"float32\")\n",
    "    neg = np.ones(scene_img.shape[:-1], dtype = \"float32\")\n",
    "\n",
    "    for ic,c in enumerate(\"hs\"):\n",
    "        pos = pos * hist[c][np.around(scene_img[:, :, ic] / 255.0 * (BINS-1)).astype(int)]\n",
    "        neg = neg * hist_neg[c][np.around(scene_img[:, :, ic] / 255.0 * (BINS-1)).astype(int)]\n",
    "\n",
    "    with np.errstate(divide = 'ignore', invalid = 'ignore'):\n",
    "        prob_map = pos #/ neg\n",
    "        prob_map[prob_map == np.inf] = 0\n",
    "        \n",
    "    cv2.normalize(prob_map, prob_map, 0, 255, cv2.NORM_MINMAX)\n",
    "    kernel= np.ones((3,3),np.uint8)\n",
    "    prob_map = cv2.morphologyEx(prob_map, cv2.MORPH_CLOSE, kernel,iterations=1)\n",
    "    prob_map = cv2.morphologyEx(prob_map, cv2.MORPH_OPEN, kernel,iterations=1)\n",
    "    \n",
    "    bootstrap_scenes_mask.append(prob_map)\n",
    "    \n",
    "    \n",
    "    # 2D probmap\n",
    "    scene_img_binned = np.around(scene_img / 255.0 * (BINS2D-1)).astype(int)\n",
    "    \n",
    "    pos = hist2d[scene_img_binned[:, :, 0], scene_img_binned[:, :, 1]]\n",
    "    neg = hist2d_neg[scene_img_binned[:, :, 0], scene_img_binned[:, :, 1]]\n",
    "    \n",
    "    prob_map_2d = pos\n",
    "    cv2.normalize(prob_map_2d, prob_map_2d, 127, 255, cv2.NORM_MINMAX)\n",
    "    \n",
    "    prob_map_2d = cv2.morphologyEx(prob_map_2d, cv2.MORPH_CLOSE, kernel,iterations=1)\n",
    "    prob_map_2d = cv2.morphologyEx(prob_map_2d, cv2.MORPH_OPEN, kernel,iterations=1)\n",
    "    \n",
    "    th_val, otsu_prob_map_2d = cv2.threshold(prob_map_2d.astype(\"uint8\"), 0, 255, cv2.THRESH_OTSU)\n",
    "    \n",
    "    bootstrap_scenes_mask.append(prob_map)\n",
    "\n",
    "    if plot:\n",
    "        fig, ax = plt.subplots(3, 1, figsize = (20, 15))\n",
    "        ax[0].imshow(prob_map, cmap = \"gray\")\n",
    "        ax[1].imshow(prob_map_2d, cmap = \"gray\")\n",
    "        ax[2].imshow(bootstrap_scenes_rgb[scene_idx])\n",
    "        plt.show()\n",
    "        \n",
    "w = widgets.IntSlider(value=0, min=0, max=len(bootstrap_scenes_rgb)-1)  \n",
    "interact(slideshow_callback_histo, scene_idx = w)"
   ]
  },
  {
   "cell_type": "markdown",
   "metadata": {},
   "source": [
    "Filtering short contours\n",
    "---------------------------\n"
   ]
  },
  {
   "cell_type": "code",
   "execution_count": 101,
   "metadata": {},
   "outputs": [
    {
     "data": {
      "image/png": "[encoded data removed]",
      "text/plain": [
       "<matplotlib.figure.Figure at 0x7f818043bf98>"
      ]
     },
     "metadata": {},
     "output_type": "display_data"
    }
   ],
   "source": [
    "good_shapes = [40, 79, 82, 86, 161]\n",
    "hard_shapes = [71, 0]\n",
    "\n",
    "def get_top2len(cont):\n",
    "    if len(cont)<=2:\n",
    "        return cont\n",
    "    else:\n",
    "        cont_lens = np.argsort([len(i) for i in cont])[-2:] # indexes of 2 longest contours\n",
    "        return [cont[i] for i in cont_lens]\n",
    "    \n",
    "def findContours_simple(img):\n",
    "    return cv2.findContours(img, cv2.RETR_EXTERNAL, cv2.CHAIN_APPROX_SIMPLE)[1]\n",
    "\n",
    "def drawContours_simple(c, shape, img = None, col = (255, 255, 255)):\n",
    "    if img is None:\n",
    "        cont_draw_img = np.zeros(shape, dtype = \"uint8\")\n",
    "    else:\n",
    "        cont_draw_img = img\n",
    "        \n",
    "    cv2.drawContours(cont_draw_img, c, -1, col, 1) \n",
    "\n",
    "    return cont_draw_img\n",
    "    \n",
    "SHAPE_IDX = 137 # select an image with more than two contours \n",
    "cont_img = bootstrap_cones_mask[SHAPE_IDX]\n",
    "\n",
    "cont = findContours_simple(cont_img)\n",
    "\n",
    "cont_top2 = get_top2len(cont)\n",
    "\n",
    "\n",
    "cont_draw_img = drawContours_simple(cont_top2, cont_img.shape + (3,))\n",
    "\n",
    "fig, ax = plt.subplots(1, 2, figsize = (7, 15))\n",
    "ax[0].set_title(\"Thresholded image\")\n",
    "ax[0].imshow(cont_img, cmap = \"gray\")\n",
    "\n",
    "ax[1].set_title(\"Two longest contours\")\n",
    "ax[1].imshow(cont_draw_img)\n",
    "\n",
    "plt.show()\n"
   ]
  },
  {
   "cell_type": "markdown",
   "metadata": {},
   "source": [
    "Contour/Shape matching\n",
    "------------------------\n",
    "\n",
    "This section explores the use of image moments for scale and rotation (parallel projection?) independent matching.\n",
    "\n",
    "\n",
    "See [`doc/Hu62.pdf`](./doc/Hu62.pdf) and [`matchShapes()`](https://docs.opencv.org/2.4/modules/imgproc/doc/structural_analysis_and_shape_descriptors.html#matchshapes) for further detail.\n"
   ]
  },
  {
   "cell_type": "code",
   "execution_count": 102,
   "metadata": {},
   "outputs": [
    {
     "data": {
      "application/vnd.jupyter.widget-view+json": {
       "model_id": "5b802ce91b2d4baa943ce4a0b5e3d9d8",
       "version_major": 2,
       "version_minor": 0
      },
      "text/html": [
       "<p>Failed to display Jupyter Widget of type <code>interactive</code>.</p>\n",
       "<p>\n",
       "  If you're reading this message in the Jupyter Notebook or JupyterLab Notebook, it may mean\n",
       "  that the widgets JavaScript is still loading. If this message persists, it\n",
       "  likely means that the widgets JavaScript library is either not installed or\n",
       "  not enabled. See the <a href=\"https://ipywidgets.readthedocs.io/en/stable/user_install.html\">Jupyter\n",
       "  Widgets Documentation</a> for setup instructions.\n",
       "</p>\n",
       "<p>\n",
       "  If you're reading this message in another frontend (for example, a static\n",
       "  rendering on GitHub or <a href=\"https://nbviewer.jupyter.org/\">NBViewer</a>),\n",
       "  it may mean that your frontend doesn't currently support widgets.\n",
       "</p>\n"
      ],
      "text/plain": [
       "interactive(children=(IntSlider(value=0, description='templ_img_idx', max=184), IntSlider(value=3, description='test_img_idx', max=184), Checkbox(value=True, description='plot'), Output()), _dom_classes=('widget-interact',))"
      ]
     },
     "metadata": {},
     "output_type": "display_data"
    },
    {
     "data": {
      "text/plain": [
       "<function __main__.slideshow_callback2>"
      ]
     },
     "execution_count": 102,
     "metadata": {},
     "output_type": "execute_result"
    }
   ],
   "source": [
    "TEMPL_SHAPE_IDX = 40 # good, high res shape of a cone\n",
    "templ_img = bootstrap_cones_mask[TEMPL_SHAPE_IDX]\n",
    "\n",
    "templ_cont_img, templ_cont, templ_hier = cv2.findContours(templ_img, cv2.RETR_EXTERNAL, cv2.CHAIN_APPROX_SIMPLE)\n",
    "\n",
    "test_cont = cont_top2\n",
    "\n",
    "# cv2.CONTOURS_MATCH_I2 - L1 distance\n",
    "def matchShapes_simple(cont1, cont2, method = cv2.CONTOURS_MATCH_I1):    \n",
    "    if len(cont1) < 2 or len(cont2) < 2:\n",
    "        return [-1, -1]\n",
    "    else:\n",
    "        return [cv2.matchShapes(cont1[i], cont2[i], cv2.CONTOURS_MATCH_I2, 0) for i in [0,1]]\n",
    "    \n",
    "def shape_distance(cont1, cont2):\n",
    "    if len(cont1) < 2 or len(cont2) < 2:\n",
    "        return [-1, -1]\n",
    "    else:\n",
    "        sd = cv2.createHausdorffDistanceExtractor()\n",
    "        return [sd.computeDistance(np.array(cont1[i], dtype = \"float64\"), np.array(cont2[i], dtype = \"float64\")) for i in [0,1]]\n",
    "\n",
    "def slideshow_callback2(templ_img_idx, test_img_idx, plot = True):\n",
    "    templ_img = bootstrap_cones_mask[templ_img_idx]\n",
    "    test_img = bootstrap_cones_mask[test_img_idx]\n",
    "    \n",
    "    # resize images so they can be superimposed\n",
    "    templ_img_res = np.zeros_like(test_img, dtype = \"uint8\")\n",
    "    \n",
    "    templ_img = cv2.resize(src = templ_img, dsize = (test_img.shape[1], test_img.shape[0]))\n",
    "\n",
    "    templ_cont = findContours_simple(templ_img)\n",
    "    test_cont = findContours_simple(test_img)\n",
    "    \n",
    "    if len(test_cont) < 2 or len(templ_cont) < 2:\n",
    "        return\n",
    "    \n",
    "    templ_cont = get_top2len(templ_cont)\n",
    "    test_cont = get_top2len(test_cont)\n",
    "    \n",
    "    #print([len(i) for i in templ_cont])\n",
    "    \n",
    "    contour_img = drawContours_simple(templ_cont, templ_img.shape + (3,), col = (255, 0, 0))\n",
    "    contour_img = drawContours_simple(test_cont, None, contour_img, col = (0, 255, 0))\n",
    "    \n",
    "    sc_dist = shape_distance(templ_cont, test_cont)\n",
    "    #hd_dist = haussdorf_distance(templ_cont, test_cont)\n",
    "    \n",
    "    if plot:\n",
    "        fig, ax = plt.subplots(1, 1, figsize = (7, 7))\n",
    "\n",
    "        ax.set_title(\"Test contour\\n Moments: \" + str(np.round(matchShapes_simple(test_cont, templ_cont), 2))\n",
    "                    + \"\\nShape context: \" + str(np.round(sc_dist, 2)))\n",
    "        ax.imshow(contour_img)\n",
    "\n",
    "        plt.show()\n",
    "    \n",
    "w = widgets.IntSlider(value=0, min=0, max=len(bootstrap_cones)-1)\n",
    "w2 = widgets.IntSlider(value=3, min=0, max=len(bootstrap_cones)-1)  \n",
    "interact(slideshow_callback2, templ_img_idx = w, test_img_idx = w2)\n",
    "\n",
    "#89"
   ]
  },
  {
   "cell_type": "markdown",
   "metadata": {},
   "source": [
    "## Sliding window template matching\n",
    "\n",
    "This section explores the sliding window method\n"
   ]
  },
  {
   "cell_type": "code",
   "execution_count": 103,
   "metadata": {},
   "outputs": [
    {
     "data": {
      "application/vnd.jupyter.widget-view+json": {
       "model_id": "ad84b2e0fa79402eb6e93cda711e2ba0",
       "version_major": 2,
       "version_minor": 0
      },
      "text/html": [
       "<p>Failed to display Jupyter Widget of type <code>interactive</code>.</p>\n",
       "<p>\n",
       "  If you're reading this message in the Jupyter Notebook or JupyterLab Notebook, it may mean\n",
       "  that the widgets JavaScript is still loading. If this message persists, it\n",
       "  likely means that the widgets JavaScript library is either not installed or\n",
       "  not enabled. See the <a href=\"https://ipywidgets.readthedocs.io/en/stable/user_install.html\">Jupyter\n",
       "  Widgets Documentation</a> for setup instructions.\n",
       "</p>\n",
       "<p>\n",
       "  If you're reading this message in another frontend (for example, a static\n",
       "  rendering on GitHub or <a href=\"https://nbviewer.jupyter.org/\">NBViewer</a>),\n",
       "  it may mean that your frontend doesn't currently support widgets.\n",
       "</p>\n"
      ],
      "text/plain": [
       "interactive(children=(IntSlider(value=980, description='x', max=1920, step=10), IntSlider(value=540, description='y', max=1080, step=10), IntSlider(value=40, continuous_update=False, description='templ_idx', max=184), IntSlider(value=0, continuous_update=False, description='scene_idx', max=22), FloatSlider(value=1.0, continuous_update=False, description='scale', max=3.0, min=0.3), Output()), _dom_classes=('widget-interact',))"
      ]
     },
     "metadata": {},
     "output_type": "display_data"
    },
    {
     "data": {
      "text/plain": [
       "<function __main__.slideshow_callback3>"
      ]
     },
     "execution_count": 103,
     "metadata": {},
     "output_type": "execute_result"
    }
   ],
   "source": [
    "\n",
    "def get_mask(img):\n",
    "    gauss_img = cv2.GaussianBlur(img, (5, 5), 0)\n",
    "    \n",
    "    th_val, otsu_img = cv2.threshold(gauss_img[:,:,1], 0, 255, cv2.THRESH_OTSU)\n",
    "    \n",
    "    return otsu_img\n",
    "\n",
    "def get_mask_gray(img):\n",
    "    gauss_img = cv2.GaussianBlur(img, (5, 5), 0)\n",
    "    \n",
    "    th_val, otsu_img = cv2.threshold(gauss_img, 0, 255, cv2.THRESH_OTSU)\n",
    "    \n",
    "    return otsu_img\n",
    "\n",
    "\n",
    "\n",
    "def slideshow_callback3(x, y, templ_idx, scene_idx, scale, plot = True):\n",
    "    scene_img_hsv = bootstrap_scenes_mask[scene_idx].astype(\"uint8\")\n",
    "    scene_img_rgb = bootstrap_scenes_rgb[scene_idx]\n",
    "    \n",
    "    templ_img = bootstrap_cones_mask[templ_idx]\n",
    "    \n",
    "    # rescale templ\n",
    "    templ_img = cv2.resize(src = templ_img, dsize = (0, 0), fx = scale, fy = scale)\n",
    "\n",
    "    crop_y = templ_img.shape[0] \n",
    "    crop_x = templ_img.shape[1]\n",
    "    \n",
    "    test_img = scene_img_hsv[y: y + crop_y, x: x + crop_x]\n",
    "    \n",
    "    test_img_mask = get_mask_gray(test_img)\n",
    "    \n",
    "    # draw focus rect on scene_img\n",
    "    scene_img_roi = np.copy(scene_img_rgb)\n",
    "    cv2.rectangle(scene_img_roi, (x, y), (x+crop_x, y+crop_y), (255, 0, 0), thickness = 4)\n",
    "    \n",
    "    cont_templ = get_top2len(findContours_simple(templ_img))\n",
    "    cont_test = get_top2len(findContours_simple(test_img_mask))\n",
    "    \n",
    "    test_img_cont = drawContours_simple(get_top2len(cont_test), test_img_mask.shape)\n",
    "    \n",
    "    matches = shape_distance(cont_templ, cont_test)\n",
    "    \n",
    "    if plot:\n",
    "        fig, ax = plt.subplots(2, 3, figsize = (20, 10))\n",
    "        #fig.tight_layout()\n",
    "        plt.suptitle(\"Match: \" + str(np.round(matches, decimals = 2)), fontsize = 15)\n",
    "\n",
    "        ax[1][0].set_title(\"Template\")\n",
    "        ax[1][0].imshow(templ_img)\n",
    "\n",
    "        ax[0][1].set_title(\"Scene\")\n",
    "        ax[0][1].imshow(scene_img_roi)\n",
    "\n",
    "        ax[1][2].set_title(\"ROI\")\n",
    "        ax[1][2].imshow(test_img_cont)\n",
    "\n",
    "        plt.show()\n",
    "\n",
    "\n",
    "SCENE_SIZE = bootstrap_scenes_rgb[0].shape\n",
    "\n",
    "w_x = widgets.IntSlider(value = 980, min = 0, max = SCENE_SIZE[1], step = 10, continuous_update = True)\n",
    "w_y = widgets.IntSlider(value = 540, min = 0, max = SCENE_SIZE[0], step = 10, continuous_update = True)\n",
    "w_templ = widgets.IntSlider(value = 40, min = 0, max = len(bootstrap_cones)-1, continuous_update = False)\n",
    "w_scene = widgets.IntSlider(value = 0, min = 0, max=len(bootstrap_scenes_rgb)-1, continuous_update = False)\n",
    "w_scale = widgets.FloatSlider(value = 1.0, min = 0.3, max = 3.0, continuous_update = False)\n",
    "\n",
    "interact(slideshow_callback3, x = w_x, y = w_y, templ_idx = w_templ, scene_idx = w_scene, scale = w_scale, plot = widgets.fixed(True))"
   ]
  },
  {
   "cell_type": "code",
   "execution_count": 106,
   "metadata": {},
   "outputs": [
    {
     "data": {
      "application/vnd.jupyter.widget-view+json": {
       "model_id": "ad84d71c2c3a47b18b6e4133f877cb65",
       "version_major": 2,
       "version_minor": 0
      },
      "text/html": [
       "<p>Failed to display Jupyter Widget of type <code>interactive</code>.</p>\n",
       "<p>\n",
       "  If you're reading this message in the Jupyter Notebook or JupyterLab Notebook, it may mean\n",
       "  that the widgets JavaScript is still loading. If this message persists, it\n",
       "  likely means that the widgets JavaScript library is either not installed or\n",
       "  not enabled. See the <a href=\"https://ipywidgets.readthedocs.io/en/stable/user_install.html\">Jupyter\n",
       "  Widgets Documentation</a> for setup instructions.\n",
       "</p>\n",
       "<p>\n",
       "  If you're reading this message in another frontend (for example, a static\n",
       "  rendering on GitHub or <a href=\"https://nbviewer.jupyter.org/\">NBViewer</a>),\n",
       "  it may mean that your frontend doesn't currently support widgets.\n",
       "</p>\n"
      ],
      "text/plain": [
       "interactive(children=(IntSlider(value=40, continuous_update=False, description='templ_idx', max=184), IntSlider(value=0, continuous_update=False, description='scene_idx', max=22), Output()), _dom_classes=('widget-interact',))"
      ]
     },
     "metadata": {},
     "output_type": "display_data"
    },
    {
     "data": {
      "text/plain": [
       "<function __main__.slideshow_callback4>"
      ]
     },
     "execution_count": 106,
     "metadata": {},
     "output_type": "execute_result"
    }
   ],
   "source": [
    "SCENE_SIZE = bootstrap_scenes_rgb[0].shape\n",
    "\n",
    "\n",
    "def slideshow_callback4(templ_idx, scene_idx, plot = True):\n",
    "    scene_img_hsv = bootstrap_scenes_mask[scene_idx]\n",
    "    scene_img_rgb = bootstrap_scenes_rgb[scene_idx]\n",
    "    \n",
    "    templ_img = bootstrap_cones_mask[templ_idx]\n",
    "    \n",
    "    WINDOW_STEP = 10\n",
    "    \n",
    "    scale_vec = [1.0]\n",
    "\n",
    "    \n",
    "    scene_img_roi = np.copy(scene_img_rgb)\n",
    "    \n",
    "    for s in scale_vec:\n",
    "        templ_img = cv2.resize(src = templ_img, dsize = (0, 0), fx = s, fy = s)\n",
    "        cont_templ = get_top2len(findContours_simple(templ_img))\n",
    "        \n",
    "        crop_y = templ_img.shape[0] \n",
    "        crop_x = templ_img.shape[1]\n",
    "        \n",
    "        x_vec = np.arange(0, SCENE_SIZE[1] - crop_x - 1, WINDOW_STEP)\n",
    "        y_vec = np.arange(0, SCENE_SIZE[0] - crop_y - 1, WINDOW_STEP)\n",
    "        for y in y_vec:\n",
    "            for x in x_vec:\n",
    "                test_img = scene_img_hsv[y: y + crop_y, x: x + crop_x]\n",
    "                test_img_mask = get_mask_gray(test_img.astype(\"uint8\"))\n",
    "\n",
    "                cont_test = get_top2len(findContours_simple(test_img_mask))\n",
    "\n",
    "                matches = shape_distance(cont_templ, cont_test)\n",
    "                \n",
    "                if matches[0] >= 0 and matches[1] >= 0:\n",
    "                    if matches[0] < 10 and matches[1] < 10:\n",
    "                        cv2.rectangle(scene_img_roi, (x, y), (x+crop_x, y+crop_y), (255, 0, 0), thickness = 4)\n",
    "    \n",
    "    \n",
    "    \n",
    "    \n",
    "    if plot:\n",
    "        fig, ax = plt.subplots(1, 1, figsize = (20, 10))\n",
    "\n",
    "        ax.set_title(\"Scene\")\n",
    "        ax.imshow(scene_img_roi)\n",
    "\n",
    "        plt.show()\n",
    "\n",
    "\n",
    "\n",
    "\n",
    "\n",
    "w_templ = widgets.IntSlider(value = 40, min = 0, max = len(bootstrap_cones)-1, continuous_update = False)\n",
    "w_scene = widgets.IntSlider(value = 0, min = 0, max=len(bootstrap_scenes_rgb)-1, continuous_update = False)\n",
    "\n",
    "interact(slideshow_callback4, templ_idx = w_templ, scene_idx = w_scene, scale = w_scale, plot = widgets.fixed(True))"
   ]
  },
  {
   "cell_type": "markdown",
   "metadata": {},
   "source": [
    "As seen above, purely using shape matching isn't working. Next a histogram backprojection will be tried."
   ]
  }
 ],
 "metadata": {
  "kernelspec": {
   "display_name": "Python 3",
   "language": "python",
   "name": "python3"
  },
  "language_info": {
   "codemirror_mode": {
    "name": "ipython",
    "version": 3
   },
   "file_extension": ".py",
   "mimetype": "text/x-python",
   "name": "python",
   "nbconvert_exporter": "python",
   "pygments_lexer": "ipython3",
   "version": "3.6.3"
  }
 },
 "nbformat": 4,
 "nbformat_minor": 2
}
